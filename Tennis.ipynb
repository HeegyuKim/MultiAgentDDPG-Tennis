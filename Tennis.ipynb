{
 "cells": [
  {
   "cell_type": "markdown",
   "metadata": {},
   "source": [
    "# Collaboration and Competition\n",
    "\n",
    "---\n",
    "\n",
    "In this notebook, you will learn how to use the Unity ML-Agents environment for the third project of the [Deep Reinforcement Learning Nanodegree](https://www.udacity.com/course/deep-reinforcement-learning-nanodegree--nd893) program.\n",
    "\n",
    "### 1. Start the Environment\n",
    "\n",
    "We begin by importing the necessary packages.  If the code cell below returns an error, please revisit the project instructions to double-check that you have installed [Unity ML-Agents](https://github.com/Unity-Technologies/ml-agents/blob/master/docs/Installation.md) and [NumPy](http://www.numpy.org/)."
   ]
  },
  {
   "cell_type": "code",
   "execution_count": 17,
   "metadata": {},
   "outputs": [],
   "source": [
    "from unityagents import UnityEnvironment\n",
    "import numpy as np\n",
    "import torch\n",
    "import torch.nn as nn\n",
    "import torch.nn.functional as F\n",
    "import matplotlib.pyplot as plt\n",
    "import time\n",
    "import copy\n",
    "import random\n",
    "from collections import deque\n",
    "\n",
    "from utils import hidden_init, OUNoise, ReplayBuffer"
   ]
  },
  {
   "cell_type": "markdown",
   "metadata": {},
   "source": [
    "Next, we will start the environment!  **_Before running the code cell below_**, change the `file_name` parameter to match the location of the Unity environment that you downloaded.\n",
    "\n",
    "- **Mac**: `\"path/to/Tennis.app\"`\n",
    "- **Windows** (x86): `\"path/to/Tennis_Windows_x86/Tennis.exe\"`\n",
    "- **Windows** (x86_64): `\"path/to/Tennis_Windows_x86_64/Tennis.exe\"`\n",
    "- **Linux** (x86): `\"path/to/Tennis_Linux/Tennis.x86\"`\n",
    "- **Linux** (x86_64): `\"path/to/Tennis_Linux/Tennis.x86_64\"`\n",
    "- **Linux** (x86, headless): `\"path/to/Tennis_Linux_NoVis/Tennis.x86\"`\n",
    "- **Linux** (x86_64, headless): `\"path/to/Tennis_Linux_NoVis/Tennis.x86_64\"`\n",
    "\n",
    "For instance, if you are using a Mac, then you downloaded `Tennis.app`.  If this file is in the same folder as the notebook, then the line below should appear as follows:\n",
    "```\n",
    "env = UnityEnvironment(file_name=\"Tennis.app\")\n",
    "```"
   ]
  },
  {
   "cell_type": "code",
   "execution_count": 6,
   "metadata": {},
   "outputs": [
    {
     "name": "stderr",
     "output_type": "stream",
     "text": [
      "INFO:unityagents:\n",
      "'Academy' started successfully!\n",
      "Unity Academy name: Academy\n",
      "        Number of Brains: 1\n",
      "        Number of External Brains : 1\n",
      "        Lesson number : 0\n",
      "        Reset Parameters :\n",
      "\t\t\n",
      "Unity brain name: TennisBrain\n",
      "        Number of Visual Observations (per agent): 0\n",
      "        Vector Observation space type: continuous\n",
      "        Vector Observation space size (per agent): 8\n",
      "        Number of stacked Vector Observation: 3\n",
      "        Vector Action space type: continuous\n",
      "        Vector Action space size (per agent): 2\n",
      "        Vector Action descriptions: , \n"
     ]
    }
   ],
   "source": [
    "env = UnityEnvironment(file_name=\"Tennis_Windows_x86_64/Tennis.exe\")"
   ]
  },
  {
   "cell_type": "markdown",
   "metadata": {},
   "source": [
    "Environments contain **_brains_** which are responsible for deciding the actions of their associated agents. Here we check for the first brain available, and set it as the default brain we will be controlling from Python."
   ]
  },
  {
   "cell_type": "code",
   "execution_count": 7,
   "metadata": {},
   "outputs": [],
   "source": [
    "# get the default brain\n",
    "brain_name = env.brain_names[0]\n",
    "brain = env.brains[brain_name]"
   ]
  },
  {
   "cell_type": "markdown",
   "metadata": {},
   "source": [
    "### 2. Examine the State and Action Spaces\n",
    "\n",
    "In this environment, two agents control rackets to bounce a ball over a net. If an agent hits the ball over the net, it receives a reward of +0.1.  If an agent lets a ball hit the ground or hits the ball out of bounds, it receives a reward of -0.01.  Thus, the goal of each agent is to keep the ball in play.\n",
    "\n",
    "The observation space consists of 8 variables corresponding to the position and velocity of the ball and racket. Two continuous actions are available, corresponding to movement toward (or away from) the net, and jumping. \n",
    "\n",
    "Run the code cell below to print some information about the environment."
   ]
  },
  {
   "cell_type": "code",
   "execution_count": 8,
   "metadata": {},
   "outputs": [
    {
     "name": "stdout",
     "output_type": "stream",
     "text": [
      "Number of agents: 2\n",
      "Size of each action: 2\n",
      "There are 2 agents. Each observes a state with length: 24\n",
      "The state for the first agent looks like: [ 0.          0.          0.          0.          0.          0.\n",
      "  0.          0.          0.          0.          0.          0.\n",
      "  0.          0.          0.          0.         -6.65278625 -1.5\n",
      " -0.          0.          6.83172083  6.         -0.          0.        ]\n"
     ]
    }
   ],
   "source": [
    "# reset the environment\n",
    "env_info = env.reset(train_mode=True)[brain_name]\n",
    "\n",
    "# number of agents \n",
    "num_agents = len(env_info.agents)\n",
    "print('Number of agents:', num_agents)\n",
    "\n",
    "# size of each action\n",
    "action_size = brain.vector_action_space_size\n",
    "print('Size of each action:', action_size)\n",
    "\n",
    "# examine the state space \n",
    "states = env_info.vector_observations\n",
    "state_size = states.shape[1]\n",
    "print('There are {} agents. Each observes a state with length: {}'.format(states.shape[0], state_size))\n",
    "print('The state for the first agent looks like:', states[0])"
   ]
  },
  {
   "cell_type": "markdown",
   "metadata": {},
   "source": [
    "### 3. Take Random Actions in the Environment\n",
    "\n",
    "In the next code cell, you will learn how to use the Python API to control the agents and receive feedback from the environment.\n",
    "\n",
    "Once this cell is executed, you will watch the agents' performance, if they select actions at random with each time step.  A window should pop up that allows you to observe the agents.\n",
    "\n",
    "Of course, as part of the project, you'll have to change the code so that the agents are able to use their experiences to gradually choose better actions when interacting with the environment!"
   ]
  },
  {
   "cell_type": "code",
   "execution_count": 9,
   "metadata": {},
   "outputs": [
    {
     "name": "stdout",
     "output_type": "stream",
     "text": [
      "Score (max over agents) from episode 1: 0.0\n",
      "Score (max over agents) from episode 2: 0.0\n",
      "Score (max over agents) from episode 3: 0.0\n",
      "Score (max over agents) from episode 4: 0.0\n",
      "Score (max over agents) from episode 5: 0.10000000149011612\n"
     ]
    }
   ],
   "source": [
    "for i in range(1, 6):                                      # play game for 5 episodes\n",
    "    env_info = env.reset(train_mode=False)[brain_name]     # reset the environment    \n",
    "    states = env_info.vector_observations                  # get the current state (for each agent)\n",
    "    scores = np.zeros(num_agents)                          # initialize the score (for each agent)\n",
    "    while True:\n",
    "        actions = np.random.randn(num_agents, action_size) # select an action (for each agent)\n",
    "        actions = np.clip(actions, -1, 1)                  # all actions between -1 and 1\n",
    "        env_info = env.step(actions)[brain_name]           # send all actions to tne environment\n",
    "        next_states = env_info.vector_observations         # get next state (for each agent)\n",
    "        rewards = env_info.rewards                         # get reward (for each agent)\n",
    "        dones = env_info.local_done                        # see if episode finished\n",
    "        scores += env_info.rewards                         # update the score (for each agent)\n",
    "        states = next_states                               # roll over states to next time step\n",
    "        if np.any(dones):                                  # exit loop if episode finished\n",
    "            break\n",
    "    print('Score (max over agents) from episode {}: {}'.format(i, np.max(scores)))"
   ]
  },
  {
   "cell_type": "code",
   "execution_count": 10,
   "metadata": {},
   "outputs": [
    {
     "data": {
      "text/plain": [
       "device(type='cuda', index=0)"
      ]
     },
     "execution_count": 10,
     "metadata": {},
     "output_type": "execute_result"
    }
   ],
   "source": [
    "GAMMA = 0.99            # discount factor\n",
    "TAU = 1e-3              # for soft update of target parameters\n",
    "LR_ACTOR = 1e-3         # learning rate of the actor \n",
    "LR_CRITIC = 1e-3        # learning rate of the critic\n",
    "WEIGHT_DECAY = 0.0\n",
    "BATCH_SIZE = 1024       # minibatch size\n",
    "BUFFER_SIZE = int(1e6)  # replay buffer size\n",
    "UPDATE_COUNT = 10\n",
    "UPDATE_EVERY = 20\n",
    "device = torch.device(\"cuda:0\" if torch.cuda.is_available() else \"cpu\")\n",
    "device"
   ]
  },
  {
   "cell_type": "markdown",
   "metadata": {},
   "source": [
    "### 4. It's Your Turn!\n",
    "\n",
    "Now it's your turn to train your own agent to solve the environment!  When training the environment, set `train_mode=True`, so that the line for resetting the environment looks like the following:\n",
    "```python\n",
    "env_info = env.reset(train_mode=True)[brain_name]\n",
    "```"
   ]
  },
  {
   "cell_type": "code",
   "execution_count": 41,
   "metadata": {},
   "outputs": [],
   "source": []
  },
  {
   "cell_type": "code",
   "execution_count": 33,
   "metadata": {},
   "outputs": [],
   "source": [
    "from maddpg"
   ]
  },
  {
   "cell_type": "code",
   "execution_count": 38,
   "metadata": {},
   "outputs": [],
   "source": [
    "agents = [MADDPGAgent(i, state_size, action_size, random_seed=7) for i in range(num_agents)]"
   ]
  },
  {
   "cell_type": "code",
   "execution_count": 39,
   "metadata": {},
   "outputs": [],
   "source": [
    "def maddpg(n_episodes=2000, max_steps=1000):\n",
    "    score_total_means = deque(maxlen=100)\n",
    "    score_means = []\n",
    "    \n",
    "    for i_episode in range(1, n_episodes+1):\n",
    "        # Reset Env and Agent\n",
    "        env_info = env.reset(train_mode=True)[brain_name]\n",
    "        states = env_info.vector_observations\n",
    "        \n",
    "        # total score of 20 agents\n",
    "        scores = []\n",
    "        \n",
    "        for agent in agents:\n",
    "            agent.reset()\n",
    "        \n",
    "        start_time = time.time()\n",
    "        \n",
    "        for t in range(max_steps):\n",
    "            actions = [agent.act(state) for agent, state in zip(agents, states)]\n",
    "            env_info = env.step(actions)[brain_name]\n",
    "            \n",
    "            next_states = env_info.vector_observations\n",
    "            rewards = env_info.rewards\n",
    "            dones = env_info.local_done \n",
    "            \n",
    "            for i, agent in enumerate(agents):\n",
    "                agent.step(states[i], actions[i], rewards[i], next_states[i], dones[i])\n",
    "            \n",
    "            states = next_states\n",
    "            scores.append(np.max(env_info.rewards))\n",
    "            \n",
    "            if t % UPDATE_EVERY == 0:\n",
    "                for _ in range(UPDATE_COUNT):\n",
    "                    for agent in agents:\n",
    "                        agent.start_learn()\n",
    "            \n",
    "            if np.any(dones):\n",
    "                break\n",
    "    \n",
    "        duration = time.time() - start_time\n",
    "        \n",
    "        mean_score = np.mean(scores)\n",
    "        min_score = np.min(scores)\n",
    "        max_score = np.max(scores)\n",
    "        score_total_means.append(mean_score)\n",
    "        score_total_means.append(mean_score)\n",
    "        total_average = np.mean(score_total_means)\n",
    "        \n",
    "        print('\\rEpisode {}\\tTotal Average Score: {:.2f}\\tMean: {:.2f}\\tMin: {:.2f}\\tMax: {:.2f}\\tDuration: {:.2f}'\n",
    "              .format(i_episode, total_average, mean_score, min_score, max_score, duration))\n",
    "\n",
    "        if i_episode % 10 == 0:\n",
    "            for agent in agents:\n",
    "                agent.save()\n",
    "            print('\\rEpisode {}\\tTotal Average Score: {:.2f}'.format(i_episode, total_average))  \n",
    "            \n",
    "        if total_average >= 0.5 and i_episode >= 100:\n",
    "            print('Problem Solved after {} epsisodes!! Total Average score: {:.2f}'.format(i_episode, total_average))\n",
    "            for agent in agents:\n",
    "                agent.save(\"solved\")\n",
    "            break\n",
    "    \n",
    "    return total_scores"
   ]
  },
  {
   "cell_type": "code",
   "execution_count": 40,
   "metadata": {
    "scrolled": true
   },
   "outputs": [
    {
     "name": "stdout",
     "output_type": "stream",
     "text": [
      "Episode 1\tTotal Average Score: 0.00\tMean: 0.00\tMin: 0.00\tMax: 0.00\tDuration: 0.10\n",
      "Episode 2\tTotal Average Score: 0.00\tMean: 0.00\tMin: 0.00\tMax: 0.00\tDuration: 0.06\n",
      "Episode 3\tTotal Average Score: 0.00\tMean: 0.00\tMin: 0.00\tMax: 0.00\tDuration: 0.06\n",
      "Episode 4\tTotal Average Score: 0.00\tMean: 0.00\tMin: 0.00\tMax: 0.00\tDuration: 0.06\n",
      "Episode 5\tTotal Average Score: 0.00\tMean: 0.00\tMin: 0.00\tMax: 0.00\tDuration: 0.07\n",
      "Episode 6\tTotal Average Score: 0.00\tMean: 0.00\tMin: 0.00\tMax: 0.00\tDuration: 0.06\n",
      "Episode 7\tTotal Average Score: 0.00\tMean: 0.00\tMin: 0.00\tMax: 0.00\tDuration: 0.06\n",
      "Episode 8\tTotal Average Score: 0.00\tMean: 0.00\tMin: 0.00\tMax: 0.00\tDuration: 0.09\n",
      "Episode 9\tTotal Average Score: 0.00\tMean: 0.00\tMin: 0.00\tMax: 0.00\tDuration: 0.09\n",
      "Episode 10\tTotal Average Score: 0.00\tMean: 0.00\tMin: 0.00\tMax: 0.00\tDuration: 0.07\n",
      "Episode 10\tTotal Average Score: 0.00\n",
      "Episode 11\tTotal Average Score: 0.00\tMean: 0.00\tMin: 0.00\tMax: 0.00\tDuration: 0.06\n",
      "Episode 12\tTotal Average Score: 0.00\tMean: 0.00\tMin: 0.00\tMax: 0.00\tDuration: 0.07\n",
      "Episode 13\tTotal Average Score: 0.00\tMean: 0.00\tMin: 0.00\tMax: 0.00\tDuration: 0.06\n",
      "Episode 14\tTotal Average Score: 0.00\tMean: 0.01\tMin: 0.00\tMax: 0.10\tDuration: 0.09\n",
      "Episode 15\tTotal Average Score: 0.00\tMean: 0.00\tMin: 0.00\tMax: 0.00\tDuration: 0.10\n",
      "Episode 16\tTotal Average Score: 0.00\tMean: 0.00\tMin: 0.00\tMax: 0.00\tDuration: 0.12\n",
      "Episode 17\tTotal Average Score: 0.00\tMean: 0.00\tMin: 0.00\tMax: 0.10\tDuration: 0.18\n",
      "Episode 18\tTotal Average Score: 0.00\tMean: 0.00\tMin: 0.00\tMax: 0.00\tDuration: 0.06\n",
      "Episode 19\tTotal Average Score: 0.00\tMean: 0.00\tMin: 0.00\tMax: 0.00\tDuration: 0.06\n",
      "Episode 20\tTotal Average Score: 0.00\tMean: 0.00\tMin: 0.00\tMax: 0.00\tDuration: 0.06\n",
      "Episode 20\tTotal Average Score: 0.00\n",
      "Episode 21\tTotal Average Score: 0.00\tMean: 0.00\tMin: 0.00\tMax: 0.00\tDuration: 0.09\n",
      "Episode 22\tTotal Average Score: 0.00\tMean: 0.00\tMin: 0.00\tMax: 0.00\tDuration: 0.06\n",
      "Episode 23\tTotal Average Score: 0.00\tMean: 0.00\tMin: 0.00\tMax: 0.00\tDuration: 0.06\n",
      "Episode 24\tTotal Average Score: 0.00\tMean: 0.00\tMin: 0.00\tMax: 0.00\tDuration: 0.06\n",
      "Episode 25\tTotal Average Score: 0.00\tMean: 0.00\tMin: 0.00\tMax: 0.00\tDuration: 0.06\n",
      "Episode 26\tTotal Average Score: 0.00\tMean: 0.00\tMin: 0.00\tMax: 0.00\tDuration: 0.06\n",
      "Episode 27\tTotal Average Score: 0.00\tMean: 0.00\tMin: 0.00\tMax: 0.00\tDuration: 0.07\n",
      "Episode 28\tTotal Average Score: 0.00\tMean: 0.00\tMin: 0.00\tMax: 0.00\tDuration: 0.06\n",
      "Episode 29\tTotal Average Score: 0.00\tMean: 0.00\tMin: 0.00\tMax: 0.00\tDuration: 0.06\n",
      "Episode 30\tTotal Average Score: 0.00\tMean: 0.00\tMin: 0.00\tMax: 0.00\tDuration: 0.08\n",
      "Episode 30\tTotal Average Score: 0.00\n",
      "Episode 31\tTotal Average Score: 0.00\tMean: 0.00\tMin: 0.00\tMax: 0.00\tDuration: 0.06\n",
      "Episode 32\tTotal Average Score: 0.00\tMean: 0.00\tMin: 0.00\tMax: 0.00\tDuration: 0.06\n",
      "Episode 33\tTotal Average Score: 0.00\tMean: 0.00\tMin: 0.00\tMax: 0.00\tDuration: 0.06\n",
      "Episode 34\tTotal Average Score: 0.00\tMean: 0.00\tMin: 0.00\tMax: 0.00\tDuration: 0.07\n",
      "Episode 35\tTotal Average Score: 0.00\tMean: 0.00\tMin: 0.00\tMax: 0.00\tDuration: 0.06\n",
      "Episode 36\tTotal Average Score: 0.00\tMean: 0.00\tMin: 0.00\tMax: 0.00\tDuration: 0.06\n",
      "Episode 37\tTotal Average Score: 0.00\tMean: 0.00\tMin: 0.00\tMax: 0.00\tDuration: 0.07\n",
      "Episode 38\tTotal Average Score: 0.00\tMean: 0.00\tMin: 0.00\tMax: 0.00\tDuration: 0.06\n",
      "Episode 39\tTotal Average Score: 0.00\tMean: 0.00\tMin: 0.00\tMax: 0.00\tDuration: 0.06\n",
      "Episode 40\tTotal Average Score: 0.00\tMean: 0.00\tMin: 0.00\tMax: 0.10\tDuration: 0.13\n",
      "Episode 40\tTotal Average Score: 0.00\n",
      "Episode 41\tTotal Average Score: 0.00\tMean: 0.00\tMin: 0.00\tMax: 0.00\tDuration: 0.08\n",
      "Episode 42\tTotal Average Score: 0.00\tMean: 0.00\tMin: 0.00\tMax: 0.00\tDuration: 0.10\n",
      "Episode 43\tTotal Average Score: 0.00\tMean: 0.00\tMin: 0.00\tMax: 0.00\tDuration: 0.08\n",
      "Episode 44\tTotal Average Score: 0.00\tMean: 0.00\tMin: 0.00\tMax: 0.00\tDuration: 0.09\n",
      "Episode 45\tTotal Average Score: 0.00\tMean: 0.00\tMin: 0.00\tMax: 0.10\tDuration: 0.24\n",
      "Episode 46\tTotal Average Score: 0.00\tMean: 0.00\tMin: 0.00\tMax: 0.00\tDuration: 0.07\n",
      "Episode 47\tTotal Average Score: 0.00\tMean: 0.00\tMin: 0.00\tMax: 0.00\tDuration: 0.08\n",
      "Episode 48\tTotal Average Score: 0.00\tMean: 0.00\tMin: 0.00\tMax: 0.00\tDuration: 0.07\n",
      "Episode 49\tTotal Average Score: 0.00\tMean: 0.00\tMin: 0.00\tMax: 0.00\tDuration: 0.07\n",
      "Episode 50\tTotal Average Score: 0.00\tMean: 0.00\tMin: 0.00\tMax: 0.00\tDuration: 0.07\n",
      "Episode 50\tTotal Average Score: 0.00\n",
      "Episode 51\tTotal Average Score: 0.00\tMean: 0.00\tMin: 0.00\tMax: 0.10\tDuration: 0.15\n",
      "Episode 52\tTotal Average Score: 0.00\tMean: 0.00\tMin: 0.00\tMax: 0.10\tDuration: 0.14\n",
      "Episode 53\tTotal Average Score: 0.00\tMean: 0.00\tMin: 0.00\tMax: 0.00\tDuration: 0.06\n",
      "Episode 54\tTotal Average Score: 0.00\tMean: 0.00\tMin: 0.00\tMax: 0.00\tDuration: 0.08\n",
      "Episode 55\tTotal Average Score: 0.00\tMean: 0.00\tMin: 0.00\tMax: 0.00\tDuration: 0.07\n",
      "Episode 56\tTotal Average Score: 0.00\tMean: 0.00\tMin: 0.00\tMax: 0.00\tDuration: 0.07\n",
      "Episode 57\tTotal Average Score: 0.00\tMean: 0.00\tMin: 0.00\tMax: 0.00\tDuration: 0.08\n",
      "Episode 58\tTotal Average Score: 0.00\tMean: 0.00\tMin: 0.00\tMax: 0.00\tDuration: 0.07\n",
      "Episode 59\tTotal Average Score: 0.00\tMean: 0.00\tMin: 0.00\tMax: 0.00\tDuration: 0.07\n",
      "Episode 60\tTotal Average Score: 0.00\tMean: 0.00\tMin: 0.00\tMax: 0.00\tDuration: 0.08\n",
      "Episode 60\tTotal Average Score: 0.00\n",
      "Episode 61\tTotal Average Score: 0.00\tMean: 0.00\tMin: 0.00\tMax: 0.00\tDuration: 0.06\n",
      "Episode 62\tTotal Average Score: 0.00\tMean: 0.00\tMin: 0.00\tMax: 0.00\tDuration: 0.07\n",
      "Episode 63\tTotal Average Score: 0.00\tMean: 0.00\tMin: 0.00\tMax: 0.00\tDuration: 0.08\n",
      "Episode 64\tTotal Average Score: 0.00\tMean: 0.00\tMin: 0.00\tMax: 0.00\tDuration: 0.06\n"
     ]
    },
    {
     "name": "stderr",
     "output_type": "stream",
     "text": [
      "d:\\programdata\\anaconda3\\envs\\drlnd\\lib\\site-packages\\ipykernel_launcher.py:63: UserWarning: torch.nn.utils.clip_grad_norm is now deprecated in favor of torch.nn.utils.clip_grad_norm_.\n"
     ]
    },
    {
     "name": "stdout",
     "output_type": "stream",
     "text": [
      "Episode 65\tTotal Average Score: 0.00\tMean: 0.00\tMin: 0.00\tMax: 0.00\tDuration: 4.69\n",
      "Episode 66\tTotal Average Score: 0.00\tMean: 0.00\tMin: 0.00\tMax: 0.00\tDuration: 0.74\n",
      "Episode 67\tTotal Average Score: 0.00\tMean: 0.00\tMin: 0.00\tMax: 0.00\tDuration: 0.80\n",
      "Episode 68\tTotal Average Score: 0.00\tMean: 0.00\tMin: 0.00\tMax: 0.00\tDuration: 0.74\n",
      "Episode 69\tTotal Average Score: 0.00\tMean: 0.00\tMin: 0.00\tMax: 0.00\tDuration: 0.73\n",
      "Episode 70\tTotal Average Score: 0.00\tMean: 0.00\tMin: 0.00\tMax: 0.00\tDuration: 0.78\n",
      "Episode 70\tTotal Average Score: 0.00\n",
      "Episode 71\tTotal Average Score: 0.00\tMean: 0.00\tMin: 0.00\tMax: 0.00\tDuration: 0.78\n",
      "Episode 72\tTotal Average Score: 0.00\tMean: 0.00\tMin: 0.00\tMax: 0.00\tDuration: 1.45\n",
      "Episode 73\tTotal Average Score: 0.00\tMean: 0.00\tMin: 0.00\tMax: 0.00\tDuration: 0.73\n",
      "Episode 74\tTotal Average Score: 0.00\tMean: 0.00\tMin: 0.00\tMax: 0.00\tDuration: 0.84\n",
      "Episode 75\tTotal Average Score: 0.00\tMean: 0.00\tMin: 0.00\tMax: 0.00\tDuration: 0.78\n",
      "Episode 76\tTotal Average Score: 0.00\tMean: 0.00\tMin: 0.00\tMax: 0.00\tDuration: 0.70\n",
      "Episode 77\tTotal Average Score: 0.00\tMean: 0.00\tMin: 0.00\tMax: 0.00\tDuration: 0.75\n",
      "Episode 78\tTotal Average Score: 0.00\tMean: 0.00\tMin: 0.00\tMax: 0.00\tDuration: 0.77\n",
      "Episode 79\tTotal Average Score: 0.00\tMean: 0.00\tMin: 0.00\tMax: 0.00\tDuration: 0.71\n",
      "Episode 80\tTotal Average Score: 0.00\tMean: 0.00\tMin: 0.00\tMax: 0.00\tDuration: 0.72\n",
      "Episode 80\tTotal Average Score: 0.00\n",
      "Episode 81\tTotal Average Score: 0.00\tMean: 0.00\tMin: 0.00\tMax: 0.00\tDuration: 0.71\n",
      "Episode 82\tTotal Average Score: 0.00\tMean: 0.00\tMin: 0.00\tMax: 0.00\tDuration: 0.73\n",
      "Episode 83\tTotal Average Score: 0.00\tMean: 0.00\tMin: 0.00\tMax: 0.00\tDuration: 0.70\n",
      "Episode 84\tTotal Average Score: 0.00\tMean: 0.00\tMin: 0.00\tMax: 0.00\tDuration: 0.70\n",
      "Episode 85\tTotal Average Score: 0.00\tMean: 0.00\tMin: 0.00\tMax: 0.00\tDuration: 0.70\n",
      "Episode 86\tTotal Average Score: 0.00\tMean: 0.00\tMin: 0.00\tMax: 0.00\tDuration: 0.73\n",
      "Episode 87\tTotal Average Score: 0.00\tMean: 0.00\tMin: 0.00\tMax: 0.00\tDuration: 0.73\n",
      "Episode 88\tTotal Average Score: 0.00\tMean: 0.00\tMin: 0.00\tMax: 0.00\tDuration: 0.71\n",
      "Episode 89\tTotal Average Score: 0.00\tMean: 0.00\tMin: 0.00\tMax: 0.00\tDuration: 0.71\n",
      "Episode 90\tTotal Average Score: 0.00\tMean: 0.00\tMin: 0.00\tMax: 0.00\tDuration: 0.83\n",
      "Episode 90\tTotal Average Score: 0.00\n",
      "Episode 91\tTotal Average Score: 0.00\tMean: 0.00\tMin: 0.00\tMax: 0.00\tDuration: 0.84\n",
      "Episode 92\tTotal Average Score: 0.00\tMean: 0.00\tMin: 0.00\tMax: 0.00\tDuration: 0.75\n",
      "Episode 93\tTotal Average Score: 0.00\tMean: 0.00\tMin: 0.00\tMax: 0.00\tDuration: 0.73\n",
      "Episode 94\tTotal Average Score: 0.00\tMean: 0.00\tMin: 0.00\tMax: 0.00\tDuration: 0.73\n",
      "Episode 95\tTotal Average Score: 0.00\tMean: 0.00\tMin: 0.00\tMax: 0.00\tDuration: 0.71\n",
      "Episode 96\tTotal Average Score: 0.00\tMean: 0.00\tMin: 0.00\tMax: 0.00\tDuration: 0.71\n",
      "Episode 97\tTotal Average Score: 0.00\tMean: 0.00\tMin: 0.00\tMax: 0.00\tDuration: 0.71\n",
      "Episode 98\tTotal Average Score: 0.00\tMean: 0.00\tMin: 0.00\tMax: 0.00\tDuration: 0.71\n",
      "Episode 99\tTotal Average Score: 0.00\tMean: 0.00\tMin: 0.00\tMax: 0.00\tDuration: 0.73\n",
      "Episode 100\tTotal Average Score: 0.00\tMean: 0.00\tMin: 0.00\tMax: 0.00\tDuration: 0.70\n",
      "Episode 100\tTotal Average Score: 0.00\n",
      "Episode 101\tTotal Average Score: 0.00\tMean: 0.00\tMin: 0.00\tMax: 0.00\tDuration: 0.69\n",
      "Episode 102\tTotal Average Score: 0.00\tMean: 0.00\tMin: 0.00\tMax: 0.00\tDuration: 0.71\n",
      "Episode 103\tTotal Average Score: 0.00\tMean: 0.00\tMin: 0.00\tMax: 0.00\tDuration: 0.71\n",
      "Episode 104\tTotal Average Score: 0.00\tMean: 0.00\tMin: 0.00\tMax: 0.00\tDuration: 0.72\n",
      "Episode 105\tTotal Average Score: 0.00\tMean: 0.00\tMin: 0.00\tMax: 0.00\tDuration: 0.76\n",
      "Episode 106\tTotal Average Score: 0.00\tMean: 0.00\tMin: 0.00\tMax: 0.00\tDuration: 0.72\n",
      "Episode 107\tTotal Average Score: 0.00\tMean: 0.00\tMin: 0.00\tMax: 0.00\tDuration: 0.75\n",
      "Episode 108\tTotal Average Score: 0.00\tMean: 0.00\tMin: 0.00\tMax: 0.00\tDuration: 0.76\n",
      "Episode 109\tTotal Average Score: 0.00\tMean: 0.00\tMin: 0.00\tMax: 0.00\tDuration: 0.73\n",
      "Episode 110\tTotal Average Score: 0.00\tMean: 0.00\tMin: 0.00\tMax: 0.00\tDuration: 0.73\n",
      "Episode 110\tTotal Average Score: 0.00\n",
      "Episode 111\tTotal Average Score: 0.00\tMean: 0.00\tMin: 0.00\tMax: 0.00\tDuration: 0.71\n",
      "Episode 112\tTotal Average Score: 0.00\tMean: 0.00\tMin: 0.00\tMax: 0.00\tDuration: 0.75\n",
      "Episode 113\tTotal Average Score: 0.00\tMean: 0.00\tMin: 0.00\tMax: 0.00\tDuration: 0.74\n"
     ]
    },
    {
     "ename": "KeyboardInterrupt",
     "evalue": "",
     "output_type": "error",
     "traceback": [
      "\u001b[1;31m---------------------------------------------------------------------------\u001b[0m",
      "\u001b[1;31mKeyboardInterrupt\u001b[0m                         Traceback (most recent call last)",
      "\u001b[1;32m<ipython-input-40-18977ea4b491>\u001b[0m in \u001b[0;36m<module>\u001b[1;34m\u001b[0m\n\u001b[1;32m----> 1\u001b[1;33m \u001b[0mscores\u001b[0m \u001b[1;33m=\u001b[0m \u001b[0mmaddpg\u001b[0m\u001b[1;33m(\u001b[0m\u001b[1;33m)\u001b[0m\u001b[1;33m\u001b[0m\u001b[1;33m\u001b[0m\u001b[0m\n\u001b[0m",
      "\u001b[1;32m<ipython-input-39-c6683b13654f>\u001b[0m in \u001b[0;36mmaddpg\u001b[1;34m(n_episodes, max_steps)\u001b[0m\n\u001b[0;32m     33\u001b[0m                 \u001b[1;32mfor\u001b[0m \u001b[0m_\u001b[0m \u001b[1;32min\u001b[0m \u001b[0mrange\u001b[0m\u001b[1;33m(\u001b[0m\u001b[0mUPDATE_COUNT\u001b[0m\u001b[1;33m)\u001b[0m\u001b[1;33m:\u001b[0m\u001b[1;33m\u001b[0m\u001b[1;33m\u001b[0m\u001b[0m\n\u001b[0;32m     34\u001b[0m                     \u001b[1;32mfor\u001b[0m \u001b[0magent\u001b[0m \u001b[1;32min\u001b[0m \u001b[0magents\u001b[0m\u001b[1;33m:\u001b[0m\u001b[1;33m\u001b[0m\u001b[1;33m\u001b[0m\u001b[0m\n\u001b[1;32m---> 35\u001b[1;33m                         \u001b[0magent\u001b[0m\u001b[1;33m.\u001b[0m\u001b[0mstart_learn\u001b[0m\u001b[1;33m(\u001b[0m\u001b[1;33m)\u001b[0m\u001b[1;33m\u001b[0m\u001b[1;33m\u001b[0m\u001b[0m\n\u001b[0m\u001b[0;32m     36\u001b[0m \u001b[1;33m\u001b[0m\u001b[0m\n\u001b[0;32m     37\u001b[0m             \u001b[1;32mif\u001b[0m \u001b[0mnp\u001b[0m\u001b[1;33m.\u001b[0m\u001b[0many\u001b[0m\u001b[1;33m(\u001b[0m\u001b[0mdones\u001b[0m\u001b[1;33m)\u001b[0m\u001b[1;33m:\u001b[0m\u001b[1;33m\u001b[0m\u001b[1;33m\u001b[0m\u001b[0m\n",
      "\u001b[1;32m<ipython-input-33-96a8ced42b1d>\u001b[0m in \u001b[0;36mstart_learn\u001b[1;34m(self)\u001b[0m\n\u001b[0;32m     45\u001b[0m     \u001b[1;32mdef\u001b[0m \u001b[0mstart_learn\u001b[0m\u001b[1;33m(\u001b[0m\u001b[0mself\u001b[0m\u001b[1;33m)\u001b[0m\u001b[1;33m:\u001b[0m\u001b[1;33m\u001b[0m\u001b[1;33m\u001b[0m\u001b[0m\n\u001b[0;32m     46\u001b[0m         \u001b[1;32mif\u001b[0m \u001b[0mlen\u001b[0m\u001b[1;33m(\u001b[0m\u001b[0mself\u001b[0m\u001b[1;33m.\u001b[0m\u001b[0mmemory\u001b[0m\u001b[1;33m)\u001b[0m \u001b[1;33m>\u001b[0m \u001b[0mBATCH_SIZE\u001b[0m\u001b[1;33m:\u001b[0m\u001b[1;33m\u001b[0m\u001b[1;33m\u001b[0m\u001b[0m\n\u001b[1;32m---> 47\u001b[1;33m             \u001b[0mexperiences\u001b[0m \u001b[1;33m=\u001b[0m \u001b[0mself\u001b[0m\u001b[1;33m.\u001b[0m\u001b[0mmemory\u001b[0m\u001b[1;33m.\u001b[0m\u001b[0msample\u001b[0m\u001b[1;33m(\u001b[0m\u001b[1;33m)\u001b[0m\u001b[1;33m\u001b[0m\u001b[1;33m\u001b[0m\u001b[0m\n\u001b[0m\u001b[0;32m     48\u001b[0m             \u001b[0mself\u001b[0m\u001b[1;33m.\u001b[0m\u001b[0mlearn\u001b[0m\u001b[1;33m(\u001b[0m\u001b[0mexperiences\u001b[0m\u001b[1;33m,\u001b[0m \u001b[0mGAMMA\u001b[0m\u001b[1;33m)\u001b[0m\u001b[1;33m\u001b[0m\u001b[1;33m\u001b[0m\u001b[0m\n\u001b[0;32m     49\u001b[0m \u001b[1;33m\u001b[0m\u001b[0m\n",
      "\u001b[1;32mD:\\machine-learning\\project3-report\\utils\\replaybuffer.py\u001b[0m in \u001b[0;36msample\u001b[1;34m(self)\u001b[0m\n\u001b[0;32m     32\u001b[0m \u001b[1;33m\u001b[0m\u001b[0m\n\u001b[0;32m     33\u001b[0m         \u001b[0mstates\u001b[0m \u001b[1;33m=\u001b[0m \u001b[0mtorch\u001b[0m\u001b[1;33m.\u001b[0m\u001b[0mfrom_numpy\u001b[0m\u001b[1;33m(\u001b[0m\u001b[0mnp\u001b[0m\u001b[1;33m.\u001b[0m\u001b[0mvstack\u001b[0m\u001b[1;33m(\u001b[0m\u001b[1;33m[\u001b[0m\u001b[0me\u001b[0m\u001b[1;33m.\u001b[0m\u001b[0mstate\u001b[0m \u001b[1;32mfor\u001b[0m \u001b[0me\u001b[0m \u001b[1;32min\u001b[0m \u001b[0mexperiences\u001b[0m \u001b[1;32mif\u001b[0m \u001b[0me\u001b[0m \u001b[1;32mis\u001b[0m \u001b[1;32mnot\u001b[0m \u001b[1;32mNone\u001b[0m\u001b[1;33m]\u001b[0m\u001b[1;33m)\u001b[0m\u001b[1;33m)\u001b[0m\u001b[1;33m.\u001b[0m\u001b[0mfloat\u001b[0m\u001b[1;33m(\u001b[0m\u001b[1;33m)\u001b[0m\u001b[1;33m.\u001b[0m\u001b[0mto\u001b[0m\u001b[1;33m(\u001b[0m\u001b[0mself\u001b[0m\u001b[1;33m.\u001b[0m\u001b[0mdevice\u001b[0m\u001b[1;33m)\u001b[0m\u001b[1;33m\u001b[0m\u001b[1;33m\u001b[0m\u001b[0m\n\u001b[1;32m---> 34\u001b[1;33m         \u001b[0mactions\u001b[0m \u001b[1;33m=\u001b[0m \u001b[0mtorch\u001b[0m\u001b[1;33m.\u001b[0m\u001b[0mfrom_numpy\u001b[0m\u001b[1;33m(\u001b[0m\u001b[0mnp\u001b[0m\u001b[1;33m.\u001b[0m\u001b[0mvstack\u001b[0m\u001b[1;33m(\u001b[0m\u001b[1;33m[\u001b[0m\u001b[0me\u001b[0m\u001b[1;33m.\u001b[0m\u001b[0maction\u001b[0m \u001b[1;32mfor\u001b[0m \u001b[0me\u001b[0m \u001b[1;32min\u001b[0m \u001b[0mexperiences\u001b[0m \u001b[1;32mif\u001b[0m \u001b[0me\u001b[0m \u001b[1;32mis\u001b[0m \u001b[1;32mnot\u001b[0m \u001b[1;32mNone\u001b[0m\u001b[1;33m]\u001b[0m\u001b[1;33m)\u001b[0m\u001b[1;33m)\u001b[0m\u001b[1;33m.\u001b[0m\u001b[0mfloat\u001b[0m\u001b[1;33m(\u001b[0m\u001b[1;33m)\u001b[0m\u001b[1;33m.\u001b[0m\u001b[0mto\u001b[0m\u001b[1;33m(\u001b[0m\u001b[0mself\u001b[0m\u001b[1;33m.\u001b[0m\u001b[0mdevice\u001b[0m\u001b[1;33m)\u001b[0m\u001b[1;33m\u001b[0m\u001b[1;33m\u001b[0m\u001b[0m\n\u001b[0m\u001b[0;32m     35\u001b[0m         \u001b[0mrewards\u001b[0m \u001b[1;33m=\u001b[0m \u001b[0mtorch\u001b[0m\u001b[1;33m.\u001b[0m\u001b[0mfrom_numpy\u001b[0m\u001b[1;33m(\u001b[0m\u001b[0mnp\u001b[0m\u001b[1;33m.\u001b[0m\u001b[0mvstack\u001b[0m\u001b[1;33m(\u001b[0m\u001b[1;33m[\u001b[0m\u001b[0me\u001b[0m\u001b[1;33m.\u001b[0m\u001b[0mreward\u001b[0m \u001b[1;32mfor\u001b[0m \u001b[0me\u001b[0m \u001b[1;32min\u001b[0m \u001b[0mexperiences\u001b[0m \u001b[1;32mif\u001b[0m \u001b[0me\u001b[0m \u001b[1;32mis\u001b[0m \u001b[1;32mnot\u001b[0m \u001b[1;32mNone\u001b[0m\u001b[1;33m]\u001b[0m\u001b[1;33m)\u001b[0m\u001b[1;33m)\u001b[0m\u001b[1;33m.\u001b[0m\u001b[0mfloat\u001b[0m\u001b[1;33m(\u001b[0m\u001b[1;33m)\u001b[0m\u001b[1;33m.\u001b[0m\u001b[0mto\u001b[0m\u001b[1;33m(\u001b[0m\u001b[0mself\u001b[0m\u001b[1;33m.\u001b[0m\u001b[0mdevice\u001b[0m\u001b[1;33m)\u001b[0m\u001b[1;33m\u001b[0m\u001b[1;33m\u001b[0m\u001b[0m\n\u001b[0;32m     36\u001b[0m         \u001b[0mnext_states\u001b[0m \u001b[1;33m=\u001b[0m \u001b[0mtorch\u001b[0m\u001b[1;33m.\u001b[0m\u001b[0mfrom_numpy\u001b[0m\u001b[1;33m(\u001b[0m\u001b[0mnp\u001b[0m\u001b[1;33m.\u001b[0m\u001b[0mvstack\u001b[0m\u001b[1;33m(\u001b[0m\u001b[1;33m[\u001b[0m\u001b[0me\u001b[0m\u001b[1;33m.\u001b[0m\u001b[0mnext_state\u001b[0m \u001b[1;32mfor\u001b[0m \u001b[0me\u001b[0m \u001b[1;32min\u001b[0m \u001b[0mexperiences\u001b[0m \u001b[1;32mif\u001b[0m \u001b[0me\u001b[0m \u001b[1;32mis\u001b[0m \u001b[1;32mnot\u001b[0m \u001b[1;32mNone\u001b[0m\u001b[1;33m]\u001b[0m\u001b[1;33m)\u001b[0m\u001b[1;33m)\u001b[0m\u001b[1;33m.\u001b[0m\u001b[0mfloat\u001b[0m\u001b[1;33m(\u001b[0m\u001b[1;33m)\u001b[0m\u001b[1;33m.\u001b[0m\u001b[0mto\u001b[0m\u001b[1;33m(\u001b[0m\u001b[0mself\u001b[0m\u001b[1;33m.\u001b[0m\u001b[0mdevice\u001b[0m\u001b[1;33m)\u001b[0m\u001b[1;33m\u001b[0m\u001b[1;33m\u001b[0m\u001b[0m\n",
      "\u001b[1;32m<__array_function__ internals>\u001b[0m in \u001b[0;36mvstack\u001b[1;34m(*args, **kwargs)\u001b[0m\n",
      "\u001b[1;32md:\\programdata\\anaconda3\\envs\\drlnd\\lib\\site-packages\\numpy\\core\\shape_base.py\u001b[0m in \u001b[0;36mvstack\u001b[1;34m(tup)\u001b[0m\n\u001b[0;32m    281\u001b[0m     \u001b[1;32mif\u001b[0m \u001b[1;32mnot\u001b[0m \u001b[0misinstance\u001b[0m\u001b[1;33m(\u001b[0m\u001b[0marrs\u001b[0m\u001b[1;33m,\u001b[0m \u001b[0mlist\u001b[0m\u001b[1;33m)\u001b[0m\u001b[1;33m:\u001b[0m\u001b[1;33m\u001b[0m\u001b[1;33m\u001b[0m\u001b[0m\n\u001b[0;32m    282\u001b[0m         \u001b[0marrs\u001b[0m \u001b[1;33m=\u001b[0m \u001b[1;33m[\u001b[0m\u001b[0marrs\u001b[0m\u001b[1;33m]\u001b[0m\u001b[1;33m\u001b[0m\u001b[1;33m\u001b[0m\u001b[0m\n\u001b[1;32m--> 283\u001b[1;33m     \u001b[1;32mreturn\u001b[0m \u001b[0m_nx\u001b[0m\u001b[1;33m.\u001b[0m\u001b[0mconcatenate\u001b[0m\u001b[1;33m(\u001b[0m\u001b[0marrs\u001b[0m\u001b[1;33m,\u001b[0m \u001b[1;36m0\u001b[0m\u001b[1;33m)\u001b[0m\u001b[1;33m\u001b[0m\u001b[1;33m\u001b[0m\u001b[0m\n\u001b[0m\u001b[0;32m    284\u001b[0m \u001b[1;33m\u001b[0m\u001b[0m\n\u001b[0;32m    285\u001b[0m \u001b[1;33m\u001b[0m\u001b[0m\n",
      "\u001b[1;32m<__array_function__ internals>\u001b[0m in \u001b[0;36mconcatenate\u001b[1;34m(*args, **kwargs)\u001b[0m\n",
      "\u001b[1;31mKeyboardInterrupt\u001b[0m: "
     ]
    }
   ],
   "source": [
    "scores = maddpg()"
   ]
  },
  {
   "cell_type": "code",
   "execution_count": null,
   "metadata": {},
   "outputs": [],
   "source": []
  }
 ],
 "metadata": {
  "kernelspec": {
   "display_name": "Python 3",
   "language": "python",
   "name": "python3"
  },
  "language_info": {
   "codemirror_mode": {
    "name": "ipython",
    "version": 3
   },
   "file_extension": ".py",
   "mimetype": "text/x-python",
   "name": "python",
   "nbconvert_exporter": "python",
   "pygments_lexer": "ipython3",
   "version": "3.6.10"
  }
 },
 "nbformat": 4,
 "nbformat_minor": 2
}
